{
 "cells": [
  {
   "cell_type": "code",
   "execution_count": 40,
   "metadata": {},
   "outputs": [],
   "source": [
    "import numpy as np\n",
    "import pandas as pd\n",
    "from scipy import stats\n",
    "import matplotlib.pyplot as plt \n",
    "import seaborn as sns\n",
    "\n",
    "default_user = {\n",
    "    \"income\": 60000,\n",
    "    \"crime\": \"low\",\n",
    "    \"weather\": \"sunny\"\n",
    "}"
   ]
  },
  {
   "cell_type": "code",
   "execution_count": 26,
   "metadata": {},
   "outputs": [
    {
     "data": {
      "text/html": [
       "<div>\n",
       "<style scoped>\n",
       "    .dataframe tbody tr th:only-of-type {\n",
       "        vertical-align: middle;\n",
       "    }\n",
       "\n",
       "    .dataframe tbody tr th {\n",
       "        vertical-align: top;\n",
       "    }\n",
       "\n",
       "    .dataframe thead th {\n",
       "        text-align: right;\n",
       "    }\n",
       "</style>\n",
       "<table border=\"1\" class=\"dataframe\">\n",
       "  <thead>\n",
       "    <tr style=\"text-align: right;\">\n",
       "      <th></th>\n",
       "      <th>Entity DCID</th>\n",
       "      <th>Entity properties isoCode</th>\n",
       "      <th>Entity properties name</th>\n",
       "      <th>Variable DCID</th>\n",
       "      <th>Variable observation date</th>\n",
       "      <th>Variable observation metadata importName</th>\n",
       "      <th>Variable observation metadata provenanceUrl</th>\n",
       "      <th>Variable observation metadata scalingFactor</th>\n",
       "      <th>Variable observation metadata unit</th>\n",
       "      <th>Variable observation metadata unitDisplayName</th>\n",
       "      <th>Variable observation value</th>\n",
       "      <th>Variable properties name</th>\n",
       "    </tr>\n",
       "  </thead>\n",
       "  <tbody>\n",
       "    <tr>\n",
       "      <th>0</th>\n",
       "      <td>geoId/2400125</td>\n",
       "      <td>NaN</td>\n",
       "      <td>Aberdeen</td>\n",
       "      <td>Median_Income_Person</td>\n",
       "      <td>2020</td>\n",
       "      <td>CensusACS5YearSurvey</td>\n",
       "      <td>https://www.census.gov/programs-surveys/acs/da...</td>\n",
       "      <td>NaN</td>\n",
       "      <td>USDollar</td>\n",
       "      <td>USD</td>\n",
       "      <td>31838</td>\n",
       "      <td>Median Income of a Population</td>\n",
       "    </tr>\n",
       "    <tr>\n",
       "      <th>1</th>\n",
       "      <td>geoId/2400175</td>\n",
       "      <td>NaN</td>\n",
       "      <td>Aberdeen Proving Ground</td>\n",
       "      <td>Median_Income_Person</td>\n",
       "      <td>2020</td>\n",
       "      <td>CensusACS5YearSurvey</td>\n",
       "      <td>https://www.census.gov/programs-surveys/acs/da...</td>\n",
       "      <td>NaN</td>\n",
       "      <td>USDollar</td>\n",
       "      <td>USD</td>\n",
       "      <td>42152</td>\n",
       "      <td>Median Income of a Population</td>\n",
       "    </tr>\n",
       "    <tr>\n",
       "      <th>2</th>\n",
       "      <td>geoId/2400200</td>\n",
       "      <td>NaN</td>\n",
       "      <td>Abingdon</td>\n",
       "      <td>Median_Income_Person</td>\n",
       "      <td>2020</td>\n",
       "      <td>CensusACS5YearSurvey</td>\n",
       "      <td>https://www.census.gov/programs-surveys/acs/da...</td>\n",
       "      <td>NaN</td>\n",
       "      <td>USDollar</td>\n",
       "      <td>USD</td>\n",
       "      <td>52767</td>\n",
       "      <td>Median Income of a Population</td>\n",
       "    </tr>\n",
       "    <tr>\n",
       "      <th>3</th>\n",
       "      <td>geoId/2400225</td>\n",
       "      <td>NaN</td>\n",
       "      <td>Accident</td>\n",
       "      <td>Median_Income_Person</td>\n",
       "      <td>2020</td>\n",
       "      <td>CensusACS5YearSurvey</td>\n",
       "      <td>https://www.census.gov/programs-surveys/acs/da...</td>\n",
       "      <td>NaN</td>\n",
       "      <td>USDollar</td>\n",
       "      <td>USD</td>\n",
       "      <td>27083</td>\n",
       "      <td>Median Income of a Population</td>\n",
       "    </tr>\n",
       "    <tr>\n",
       "      <th>4</th>\n",
       "      <td>geoId/2400250</td>\n",
       "      <td>NaN</td>\n",
       "      <td>Accokeek</td>\n",
       "      <td>Median_Income_Person</td>\n",
       "      <td>2020</td>\n",
       "      <td>CensusACS5YearSurvey</td>\n",
       "      <td>https://www.census.gov/programs-surveys/acs/da...</td>\n",
       "      <td>NaN</td>\n",
       "      <td>USDollar</td>\n",
       "      <td>USD</td>\n",
       "      <td>66531</td>\n",
       "      <td>Median Income of a Population</td>\n",
       "    </tr>\n",
       "  </tbody>\n",
       "</table>\n",
       "</div>"
      ],
      "text/plain": [
       "     Entity DCID  Entity properties isoCode   Entity properties name  \\\n",
       "0  geoId/2400125                        NaN                 Aberdeen   \n",
       "1  geoId/2400175                        NaN  Aberdeen Proving Ground   \n",
       "2  geoId/2400200                        NaN                 Abingdon   \n",
       "3  geoId/2400225                        NaN                 Accident   \n",
       "4  geoId/2400250                        NaN                 Accokeek   \n",
       "\n",
       "          Variable DCID  Variable observation date  \\\n",
       "0  Median_Income_Person                       2020   \n",
       "1  Median_Income_Person                       2020   \n",
       "2  Median_Income_Person                       2020   \n",
       "3  Median_Income_Person                       2020   \n",
       "4  Median_Income_Person                       2020   \n",
       "\n",
       "  Variable observation metadata importName  \\\n",
       "0                     CensusACS5YearSurvey   \n",
       "1                     CensusACS5YearSurvey   \n",
       "2                     CensusACS5YearSurvey   \n",
       "3                     CensusACS5YearSurvey   \n",
       "4                     CensusACS5YearSurvey   \n",
       "\n",
       "         Variable observation metadata provenanceUrl  \\\n",
       "0  https://www.census.gov/programs-surveys/acs/da...   \n",
       "1  https://www.census.gov/programs-surveys/acs/da...   \n",
       "2  https://www.census.gov/programs-surveys/acs/da...   \n",
       "3  https://www.census.gov/programs-surveys/acs/da...   \n",
       "4  https://www.census.gov/programs-surveys/acs/da...   \n",
       "\n",
       "   Variable observation metadata scalingFactor  \\\n",
       "0                                          NaN   \n",
       "1                                          NaN   \n",
       "2                                          NaN   \n",
       "3                                          NaN   \n",
       "4                                          NaN   \n",
       "\n",
       "  Variable observation metadata unit  \\\n",
       "0                           USDollar   \n",
       "1                           USDollar   \n",
       "2                           USDollar   \n",
       "3                           USDollar   \n",
       "4                           USDollar   \n",
       "\n",
       "  Variable observation metadata unitDisplayName  Variable observation value  \\\n",
       "0                                           USD                       31838   \n",
       "1                                           USD                       42152   \n",
       "2                                           USD                       52767   \n",
       "3                                           USD                       27083   \n",
       "4                                           USD                       66531   \n",
       "\n",
       "        Variable properties name  \n",
       "0  Median Income of a Population  \n",
       "1  Median Income of a Population  \n",
       "2  Median Income of a Population  \n",
       "3  Median Income of a Population  \n",
       "4  Median Income of a Population  "
      ]
     },
     "execution_count": 26,
     "metadata": {},
     "output_type": "execute_result"
    }
   ],
   "source": [
    "income_data = pd.read_csv('Individual_Median_Income_MD_Cities(2020).csv')\n",
    "metrics = [\"Entity DCID\", \"Entity properties name\", \"Variable observation value\"]\n",
    "income_data.head()"
   ]
  },
  {
   "cell_type": "code",
   "execution_count": 31,
   "metadata": {},
   "outputs": [
    {
     "data": {
      "text/plain": [
       "Entity DCID                                        0\n",
       "Entity properties isoCode                        500\n",
       "Entity properties name                             0\n",
       "Variable DCID                                      0\n",
       "Variable observation date                          0\n",
       "Variable observation metadata importName           0\n",
       "Variable observation metadata provenanceUrl        0\n",
       "Variable observation metadata scalingFactor      500\n",
       "Variable observation metadata unit                 0\n",
       "Variable observation metadata unitDisplayName      0\n",
       "Variable observation value                         0\n",
       "Variable properties name                           0\n",
       "dtype: int64"
      ]
     },
     "execution_count": 31,
     "metadata": {},
     "output_type": "execute_result"
    }
   ],
   "source": [
    "income_data.isnull().sum()"
   ]
  },
  {
   "cell_type": "code",
   "execution_count": 27,
   "metadata": {},
   "outputs": [
    {
     "data": {
      "text/plain": [
       "('Median_Income_Person', 'CensusACS5YearSurvey')"
      ]
     },
     "execution_count": 27,
     "metadata": {},
     "output_type": "execute_result"
    }
   ],
   "source": [
    "variable_dcids = income_data[\"Variable DCID\"].unique()[0]\n",
    "variable_metadata_import_name = income_data[\"Variable observation metadata importName\"].unique()[0]\n",
    "variable_dcids, variable_metadata_import_name"
   ]
  },
  {
   "cell_type": "code",
   "execution_count": 28,
   "metadata": {},
   "outputs": [
    {
     "name": "stdout",
     "output_type": "stream",
     "text": [
      "(500, 3)\n"
     ]
    },
    {
     "data": {
      "text/html": [
       "<div>\n",
       "<style scoped>\n",
       "    .dataframe tbody tr th:only-of-type {\n",
       "        vertical-align: middle;\n",
       "    }\n",
       "\n",
       "    .dataframe tbody tr th {\n",
       "        vertical-align: top;\n",
       "    }\n",
       "\n",
       "    .dataframe thead th {\n",
       "        text-align: right;\n",
       "    }\n",
       "</style>\n",
       "<table border=\"1\" class=\"dataframe\">\n",
       "  <thead>\n",
       "    <tr style=\"text-align: right;\">\n",
       "      <th></th>\n",
       "      <th>DCID</th>\n",
       "      <th>City</th>\n",
       "      <th>Income</th>\n",
       "    </tr>\n",
       "  </thead>\n",
       "  <tbody>\n",
       "    <tr>\n",
       "      <th>0</th>\n",
       "      <td>geoId/2400125</td>\n",
       "      <td>Aberdeen</td>\n",
       "      <td>31838</td>\n",
       "    </tr>\n",
       "    <tr>\n",
       "      <th>1</th>\n",
       "      <td>geoId/2400175</td>\n",
       "      <td>Aberdeen Proving Ground</td>\n",
       "      <td>42152</td>\n",
       "    </tr>\n",
       "    <tr>\n",
       "      <th>2</th>\n",
       "      <td>geoId/2400200</td>\n",
       "      <td>Abingdon</td>\n",
       "      <td>52767</td>\n",
       "    </tr>\n",
       "    <tr>\n",
       "      <th>3</th>\n",
       "      <td>geoId/2400225</td>\n",
       "      <td>Accident</td>\n",
       "      <td>27083</td>\n",
       "    </tr>\n",
       "    <tr>\n",
       "      <th>4</th>\n",
       "      <td>geoId/2400250</td>\n",
       "      <td>Accokeek</td>\n",
       "      <td>66531</td>\n",
       "    </tr>\n",
       "  </tbody>\n",
       "</table>\n",
       "</div>"
      ],
      "text/plain": [
       "            DCID                     City  Income\n",
       "0  geoId/2400125                 Aberdeen   31838\n",
       "1  geoId/2400175  Aberdeen Proving Ground   42152\n",
       "2  geoId/2400200                 Abingdon   52767\n",
       "3  geoId/2400225                 Accident   27083\n",
       "4  geoId/2400250                 Accokeek   66531"
      ]
     },
     "execution_count": 28,
     "metadata": {},
     "output_type": "execute_result"
    }
   ],
   "source": [
    "df = income_data[metrics]\n",
    "df = df.rename(columns={\n",
    "    \"Entity DCID\": \"DCID\",\n",
    "    \"Entity properties name\": \"City\",\n",
    "    \"Variable observation value\": \"Income\",\n",
    "})\n",
    "\n",
    "print(df.shape)\n",
    "df.head()"
   ]
  },
  {
   "cell_type": "code",
   "execution_count": 29,
   "metadata": {},
   "outputs": [
    {
     "data": {
      "text/html": [
       "<div>\n",
       "<style scoped>\n",
       "    .dataframe tbody tr th:only-of-type {\n",
       "        vertical-align: middle;\n",
       "    }\n",
       "\n",
       "    .dataframe tbody tr th {\n",
       "        vertical-align: top;\n",
       "    }\n",
       "\n",
       "    .dataframe thead th {\n",
       "        text-align: right;\n",
       "    }\n",
       "</style>\n",
       "<table border=\"1\" class=\"dataframe\">\n",
       "  <thead>\n",
       "    <tr style=\"text-align: right;\">\n",
       "      <th></th>\n",
       "      <th>Income</th>\n",
       "    </tr>\n",
       "  </thead>\n",
       "  <tbody>\n",
       "    <tr>\n",
       "      <th>count</th>\n",
       "      <td>500.000000</td>\n",
       "    </tr>\n",
       "    <tr>\n",
       "      <th>mean</th>\n",
       "      <td>43074.290000</td>\n",
       "    </tr>\n",
       "    <tr>\n",
       "      <th>std</th>\n",
       "      <td>18155.358294</td>\n",
       "    </tr>\n",
       "    <tr>\n",
       "      <th>min</th>\n",
       "      <td>2499.000000</td>\n",
       "    </tr>\n",
       "    <tr>\n",
       "      <th>25%</th>\n",
       "      <td>31606.000000</td>\n",
       "    </tr>\n",
       "    <tr>\n",
       "      <th>50%</th>\n",
       "      <td>40012.500000</td>\n",
       "    </tr>\n",
       "    <tr>\n",
       "      <th>75%</th>\n",
       "      <td>52268.250000</td>\n",
       "    </tr>\n",
       "    <tr>\n",
       "      <th>max</th>\n",
       "      <td>138500.000000</td>\n",
       "    </tr>\n",
       "  </tbody>\n",
       "</table>\n",
       "</div>"
      ],
      "text/plain": [
       "              Income\n",
       "count     500.000000\n",
       "mean    43074.290000\n",
       "std     18155.358294\n",
       "min      2499.000000\n",
       "25%     31606.000000\n",
       "50%     40012.500000\n",
       "75%     52268.250000\n",
       "max    138500.000000"
      ]
     },
     "execution_count": 29,
     "metadata": {},
     "output_type": "execute_result"
    }
   ],
   "source": [
    "df.describe()"
   ]
  },
  {
   "cell_type": "code",
   "execution_count": null,
   "metadata": {},
   "outputs": [
    {
     "data": {
      "image/png": "[encoded data removed]",
      "text/plain": [
       "<Figure size 1000x600 with 1 Axes>"
      ]
     },
     "metadata": {},
     "output_type": "display_data"
    }
   ],
   "source": [
    "plt.figure(figsize=(10, 6))\n",
    "plt.title('Distribution of Median Income in Maryland Cities (2020)')\n",
    "plt.xlabel('Median Income ($)')\n",
    "plt.ylabel('Frequency')\n",
    "\n",
    "plt.hist(df[\"Income\"], bins=20, color='blue', alpha=0.7)\n",
    "plt.grid(axis='y', alpha=0.75)\n",
    "\n",
    "plt.show()\n"
   ]
  },
  {
   "cell_type": "markdown",
   "metadata": {},
   "source": [
    "### Hypothesis Test: Is the User’s Income Significantly Different from the Average?\n",
    "\n",
    "We used a one-sample t-test to evaluate whether the user's income is significantly different from the average income across Maryland cities. Since the optimal city depends on user preferences, we created a default profile for this analysis. The default user's income is set at \\$60,000.\n",
    "\n",
    "**Null Hypothesis (H₀):** The mean income of cities in Maryland equals the user's income.  \n",
    "**Alternative Hypothesis (H₁):** The mean income of cities is different from the user's income.\n",
    "\n",
    "**Result:**  \n",
    "T-statistic = -20.85  \n",
    "P-value < 0.05\n",
    "\n",
    "**Conclusion:**  \n",
    "There is strong statistical evidence that the user's income is significantly different from the average income across Maryland cities. The **T-statistic of -20.85** indicates that the average city income is far below the user's income—by over 20 standard errors. The **P-value < 0.05** confirms that this difference is highly unlikely to be due to random chance.\n",
    "\n",
    "**How this helps the user:**  \n",
    "This result suggests that the user can afford to live in many cities across Maryland. By comparing the user's income to city-level incomes, we can filter out unaffordable locations and focus recommendations on cities where the cost of living (as proxied by income levels) is within reach. This test supports one part of our goal: helping users find cities that are economically suitable based on their income.\n"
   ]
  },
  {
   "cell_type": "code",
   "execution_count": 41,
   "metadata": {},
   "outputs": [
    {
     "name": "stdout",
     "output_type": "stream",
     "text": [
      "T-statistic: -20.85, P-value: 0.000\n"
     ]
    }
   ],
   "source": [
    "user_income = default_user[\"income\"]\n",
    "t_stat, p_value = stats.ttest_1samp(df[\"Income\"], user_income)\n",
    "print(f\"T-statistic: {t_stat:.2f}, P-value: {p_value:.3f}\")"
   ]
  },
  {
   "cell_type": "code",
   "execution_count": 48,
   "metadata": {},
   "outputs": [
    {
     "data": {
      "image/png": "[encoded data removed]",
      "text/plain": [
       "<Figure size 1000x600 with 1 Axes>"
      ]
     },
     "metadata": {},
     "output_type": "display_data"
    }
   ],
   "source": [
    "plt.figure(figsize=(10, 6))\n",
    "sns.histplot(df[\"Income\"], bins=20, kde=True, color='blue', label='Income Distribution')\n",
    "plt.axvline(default_user['income'], color='red', linestyle='--', label=f'User Income = ${default_user['income']}')\n",
    "plt.title(\"Distribution of Income Across Maryland Cities (2020)\")\n",
    "plt.xlabel(\"Income\")\n",
    "plt.ylabel(\"Number of Cities\")\n",
    "plt.legend()\n",
    "plt.tight_layout()\n",
    "plt.show()"
   ]
  }
 ],
 "metadata": {
  "kernelspec": {
   "display_name": "base",
   "language": "python",
   "name": "python3"
  },
  "language_info": {
   "codemirror_mode": {
    "name": "ipython",
    "version": 3
   },
   "file_extension": ".py",
   "mimetype": "text/x-python",
   "name": "python",
   "nbconvert_exporter": "python",
   "pygments_lexer": "ipython3",
   "version": "3.12.9"
  }
 },
 "nbformat": 4,
 "nbformat_minor": 2
}
